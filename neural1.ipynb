{
  "nbformat": 4,
  "nbformat_minor": 0,
  "metadata": {
    "colab": {
      "provenance": [],
      "authorship_tag": "ABX9TyNYwYEcm7HQWkZGf30I8CM6",
      "include_colab_link": true
    },
    "kernelspec": {
      "name": "python3",
      "display_name": "Python 3"
    },
    "language_info": {
      "name": "python"
    }
  },
  "cells": [
    {
      "cell_type": "markdown",
      "metadata": {
        "id": "view-in-github",
        "colab_type": "text"
      },
      "source": [
        "<a href=\"https://colab.research.google.com/github/RishikaMadireddy/Neural-Networks-ICP1/blob/main/neural1.ipynb\" target=\"_parent\"><img src=\"https://colab.research.google.com/assets/colab-badge.svg\" alt=\"Open In Colab\"/></a>"
      ]
    },
    {
      "cell_type": "code",
      "execution_count": 1,
      "metadata": {
        "colab": {
          "base_uri": "https://localhost:8080/"
        },
        "id": "TYNackdAaSDX",
        "outputId": "50ca26ea-82c7-4e86-9e1d-6f20267e334f"
      },
      "outputs": [
        {
          "output_type": "stream",
          "name": "stdout",
          "text": [
            "Enter the string 'Python': python\n",
            "Reversed String: ntyp\n",
            "Enter the first number: 12\n",
            "Enter the second number: 6\n",
            "Addition: 18.0\n",
            "Subtraction: 6.0\n",
            "Multiplication: 72.0\n",
            "Division: 2.0\n"
          ]
        }
      ],
      "source": [
        "# Input the string \"Python\" as a list of characters from console\n",
        "input_string = list(input(\"Enter the string 'Python': \"))\n",
        "\n",
        "# Delete at least 2 characters\n",
        "if len(input_string) >= 2:\n",
        "    del input_string[3:5]\n",
        "\n",
        "# Reverse the resultant string\n",
        "resultant_string = ''.join(reversed(input_string))\n",
        "\n",
        "# Print the reversed string\n",
        "print(\"Reversed String:\", resultant_string)\n",
        "\n",
        "# Take two numbers from the user\n",
        "num1 = float(input(\"Enter the first number: \"))\n",
        "num2 = float(input(\"Enter the second number: \"))\n",
        "\n",
        "# Perform at least 4 arithmetic operations\n",
        "addition = num1 + num2\n",
        "subtraction = num1 - num2\n",
        "multiplication = num1 * num2\n",
        "division = num1 / num2\n",
        "\n",
        "# Print the results of arithmetic operations\n",
        "print(\"Addition:\", addition)\n",
        "print(\"Subtraction:\", subtraction)\n",
        "print(\"Multiplication:\", multiplication)\n",
        "print(\"Division:\", division)"
      ]
    }
  ]
}