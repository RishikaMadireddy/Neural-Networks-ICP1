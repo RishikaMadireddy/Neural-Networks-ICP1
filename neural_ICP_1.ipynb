{
  "nbformat": 4,
  "nbformat_minor": 0,
  "metadata": {
    "colab": {
      "provenance": [],
      "authorship_tag": "ABX9TyNftSmHdTmKGEWDKO9IiIEu",
      "include_colab_link": true
    },
    "kernelspec": {
      "name": "python3",
      "display_name": "Python 3"
    },
    "language_info": {
      "name": "python"
    }
  },
  "cells": [
    {
      "cell_type": "markdown",
      "metadata": {
        "id": "view-in-github",
        "colab_type": "text"
      },
      "source": [
        "<a href=\"https://colab.research.google.com/github/RishikaMadireddy/Neural-Networks-ICP1/blob/main/neural_ICP_1.ipynb\" target=\"_parent\"><img src=\"https://colab.research.google.com/assets/colab-badge.svg\" alt=\"Open In Colab\"/></a>"
      ]
    },
    {
      "cell_type": "code",
      "execution_count": 1,
      "metadata": {
        "colab": {
          "base_uri": "https://localhost:8080/"
        },
        "id": "TYNackdAaSDX",
        "outputId": "50ca26ea-82c7-4e86-9e1d-6f20267e334f"
      },
      "outputs": [
        {
          "output_type": "stream",
          "name": "stdout",
          "text": [
            "Enter the string 'Python': python\n",
            "Reversed String: ntyp\n",
            "Enter the first number: 12\n",
            "Enter the second number: 6\n",
            "Addition: 18.0\n",
            "Subtraction: 6.0\n",
            "Multiplication: 72.0\n",
            "Division: 2.0\n"
          ]
        }
      ],
      "source": [
        "# Input the string \"Python\" as a list of characters from console\n",
        "input_string = list(input(\"Enter the string 'Python': \"))\n",
        "\n",
        "# Delete at least 2 characters\n",
        "if len(input_string) >= 2:\n",
        "    del input_string[3:5]\n",
        "\n",
        "# Reverse the resultant string\n",
        "resultant_string = ''.join(reversed(input_string))\n",
        "\n",
        "# Print the reversed string\n",
        "print(\"Reversed String:\", resultant_string)\n",
        "\n",
        "# Take two numbers from the user\n",
        "num1 = float(input(\"Enter the first number: \"))\n",
        "num2 = float(input(\"Enter the second number: \"))\n",
        "\n",
        "# Perform at least 4 arithmetic operations\n",
        "addition = num1 + num2\n",
        "subtraction = num1 - num2\n",
        "multiplication = num1 * num2\n",
        "division = num1 / num2\n",
        "\n",
        "# Print the results of arithmetic operations\n",
        "print(\"Addition:\", addition)\n",
        "print(\"Subtraction:\", subtraction)\n",
        "print(\"Multiplication:\", multiplication)\n",
        "print(\"Division:\", division)"
      ]
    },
    {
      "cell_type": "code",
      "source": [
        "# Accept a sentence from the user\n",
        "sentence = input(\"Enter a sentence: \")\n",
        "\n",
        "# Replace each occurrence of 'python' with 'pythons'\n",
        "modified_sentence = sentence.replace('python', 'pythons')\n",
        "\n",
        "# Print the modified sentence\n",
        "print(\"Modified Sentence:\", modified_sentence)"
      ],
      "metadata": {
        "colab": {
          "base_uri": "https://localhost:8080/"
        },
        "id": "35Ur0duka4XY",
        "outputId": "c40dbc61-f66a-490e-9fe2-b1a09b90d33c"
      },
      "execution_count": 2,
      "outputs": [
        {
          "output_type": "stream",
          "name": "stdout",
          "text": [
            "Enter a sentence: python\n",
            "Modified Sentence: pythons\n"
          ]
        }
      ]
    },
    {
      "cell_type": "code",
      "source": [
        "class_score = float(input(\"Enter the class score: \"))\n",
        "\n",
        "# Define grading scheme (you can adjust the score ranges as needed)\n",
        "A_score = 90\n",
        "B_score = 80\n",
        "C_score = 70\n",
        "D_score = 60\n",
        "\n",
        "# Use if statements to determine the letter grade\n",
        "if class_score >= A_score:\n",
        "    grade = 'A'\n",
        "elif class_score >= B_score:\n",
        "    grade = 'B'\n",
        "elif class_score >= C_score:\n",
        "    grade = 'C'\n",
        "elif class_score >= D_score:\n",
        "    grade = 'D'\n",
        "else:\n",
        "    grade = 'F'\n",
        "\n",
        "# Print the letter grade\n",
        "print(\"Letter Grade:\", grade)"
      ],
      "metadata": {
        "colab": {
          "base_uri": "https://localhost:8080/"
        },
        "id": "4uUs3EAIbGmK",
        "outputId": "4559a6c9-055f-4b23-e3b6-270179684fd1"
      },
      "execution_count": 3,
      "outputs": [
        {
          "output_type": "stream",
          "name": "stdout",
          "text": [
            "Enter the class score: 92\n",
            "Letter Grade: A\n"
          ]
        }
      ]
    }
  ]
}